{
 "cells": [
  {
   "cell_type": "code",
   "execution_count": 81,
   "id": "63ed261f-4519-4e0b-9250-568eba90fafe",
   "metadata": {},
   "source": [
    "import sys\n",
    "sys.path.append('../')\n",
    "import pandas as pd\n",
    "import random\n",
    "import os\n",
    "import numpy as np\n",
    "from cnt.generate_re_data import AutoRE\n",
    "\n",
    "from cnt.annotate import (annotate, annotate_single_design, \n",
    "                          annotate_designs, \n",
    "                          extract_string_from_annotation, labeling_eng)\n",
    "from cnt.extract_relation import (path, NERTransformer, FeatureExtractor)\n",
    "from cnt.evaluate import Metrics\n",
    "from cnt.vectorize import (Doc2Str, Path2Str, Verbs2Str, AveragedPath2Vec, \n",
    "                           AveragedRest2Vec)\n",
    "from cnt.io import (replace_left_right)\n",
    "from cnt.io import  Database_Connection\n",
    "from cnt.preprocess import Preprocess\n",
    "\n",
    "import warnings\n",
    "warnings.filterwarnings('ignore')"
   ],
   "outputs": []
  },
  {
   "cell_type": "code",
   "execution_count": 82,
   "id": "590e4fe8-0eaf-4b6b-bb99-8e56ad2a89e5",
   "metadata": {},
   "source": [
    "auto = AutoRE()"
   ],
   "outputs": []
  },
  {
   "cell_type": "code",
   "execution_count": 83,
   "id": "39e8d9f0-9f1a-46cf-bd11-e2acf171ef05",
   "metadata": {},
   "source": [
    "subjects = [\"Athena\", \"Ares\", \"Apollo\", \"Zeus\", \"Nike\", \"Olybrius\", \"Seleucus I\", \"Domitianus\", \"Equitas\", \"Rhoemetalces I\"]"
   ],
   "outputs": []
  },
  {
   "cell_type": "code",
   "execution_count": 84,
   "id": "969191b3-6013-4038-b05a-8935a6b58025",
   "metadata": {},
   "source": [
    "relations = {\n",
    "    \"holding\":[\"sword\", \"shield\", \"paludamentum\", \"staff\", \"club\", \"stones\", \"jar\", \"bow\"],\n",
    "    \"wearing\":[\"belt\", \"crown\", \"helmet\", \"cuirass\", \"crown juwel\", \"ribbons\", \"boots\"],\n",
    "    \"seated_on\":[\"dolphin\", \"shield\", \"omphalos\", \"rock\", \"bull\", \"panther\", \"kline\"],\n",
    "    \"resting_on\":[\"serpent staff\", \"torch\", \"shield\", \"panther\", \"club\", \"water urn\", \"knee\", \"rock\"],\n",
    "    \"feeding\":[\"panther\", \"dolphin\"],\n",
    "    \"receiving\":[\"apple\", \"agonistic crown\", \"crown\", \"shield\"],}"
   ],
   "outputs": []
  },
  {
   "cell_type": "code",
   "execution_count": 85,
   "id": "2beb843c-3dfa-4265-8df2-a8891d37f9aa",
   "metadata": {},
   "source": [
    "auto.set_subjects(subjects)"
   ],
   "outputs": []
  },
  {
   "cell_type": "code",
   "execution_count": 86,
   "id": "332a248f-127a-4f09-9edc-9cc32ecf974e",
   "metadata": {},
   "source": [
    "auto.set_relations(relations)"
   ],
   "outputs": []
  },
  {
   "cell_type": "code",
   "execution_count": 87,
   "id": "2e8c1405-eaf1-4dfe-a272-45baf2b7d503",
   "metadata": {},
   "source": [
    "result = auto.generate(300)"
   ],
   "outputs": []
  },
  {
   "cell_type": "code",
   "execution_count": 88,
   "id": "a9c0c00a-5d66-409b-b531-ab312c64802e",
   "metadata": {},
   "source": [
    "result.head(5)"
   ],
   "outputs": []
  },
  {
   "cell_type": "code",
   "execution_count": 89,
   "id": "cceb9ee8-8a79-4647-bc8d-162198b15d6d",
   "metadata": {},
   "source": [
    "X = result[[\"design_en\"]]\n",
    "X[\"design_de\"] = \"\"\n",
    "X[\"comment\"] = \"auto_generated\"\n",
    "X[\"design_en_changed\"] = \"\"\n",
    "X.head(2)"
   ],
   "outputs": []
  },
  {
   "cell_type": "code",
   "execution_count": 90,
   "id": "e965a38c-2c57-4b70-a9e7-ddff17838b5f",
   "metadata": {},
   "source": [
    "X.shape"
   ],
   "outputs": []
  },
  {
   "cell_type": "code",
   "execution_count": 91,
   "id": "03dfe532-ceff-452d-a833-c7eb43951086",
   "metadata": {},
   "source": [
    "dc =  Database_Connection(\"mysql+mysqlconnector://...\") # Format user:password@IP/Database"
   ],
   "outputs": []
  },
  {
   "cell_type": "code",
   "execution_count": 92,
   "id": "ee192458-3810-4875-9360-9060370164fa",
   "metadata": {},
   "source": [
    "X.to_sql(\"nlp_training_designs\",dc.mysql_connection,if_exists=\"append\", index=False)"
   ],
   "outputs": []
  },
  {
   "cell_type": "code",
   "execution_count": 93,
   "id": "5e76cf1f-5fba-4bf1-a663-9cc2858a33e5",
   "metadata": {},
   "source": [
    "def get_id(design):\n",
    "    try:\n",
    "        return dc.create_own_query(\"select id from nlp_training_designs where design_en='\"+design+\"';\").id.item()\n",
    "    except:\n",
    "        return \"Null\""
   ],
   "outputs": []
  },
  {
   "cell_type": "code",
   "execution_count": 94,
   "id": "40592b1a-e030-464f-b76f-c3bd2384080f",
   "metadata": {},
   "source": [
    "X[\"db_id\"] = X.apply(lambda row: get_id(row.design_en), axis=1)"
   ],
   "outputs": []
  },
  {
   "cell_type": "code",
   "execution_count": 95,
   "id": "e20f0f86-fe6c-4223-b37f-745ab74e64f8",
   "metadata": {},
   "source": [
    "X.head(5)"
   ],
   "outputs": []
  },
  {
   "cell_type": "code",
   "execution_count": 96,
   "id": "4ba865f5-65f6-4e5a-8fc9-58f75943b0a2",
   "metadata": {},
   "source": [
    "X = X.loc[X.db_id!=\"Null\"]\n",
    "X.shape"
   ],
   "outputs": []
  },
  {
   "cell_type": "code",
   "execution_count": 97,
   "id": "e2fdc29c-94bf-41f8-985f-1bab13aa2808",
   "metadata": {},
   "source": [
    "X[\"y\"] = result[\"y\"]"
   ],
   "outputs": []
  },
  {
   "cell_type": "code",
   "execution_count": 98,
   "id": "b7955b26-19a4-4861-aa55-02f7f5fcf0be",
   "metadata": {},
   "source": [
    "X.head(5)"
   ],
   "outputs": []
  },
  {
   "cell_type": "markdown",
   "id": "ee355287-4f5b-439c-bf88-6edc72bf3d24",
   "metadata": {},
   "source": [
    "## Add relations to db"
   ]
  },
  {
   "cell_type": "code",
   "execution_count": 99,
   "id": "81c3e381-d79e-45f8-b167-25f510394dd7",
   "metadata": {},
   "source": [
    "entities = dc.create_own_query(\"select * from nlp_list_entities;\")\n",
    "entities[[\"id\", \"name_en\", \"alternativenames_en\"]]"
   ],
   "outputs": []
  },
  {
   "cell_type": "code",
   "execution_count": 100,
   "id": "4b496835-0abe-47f2-aeb1-54e0a58c2be1",
   "metadata": {},
   "source": [
    "X[\"y\"] = X.apply(lambda row: [row.y], axis=1)"
   ],
   "outputs": []
  },
  {
   "cell_type": "code",
   "execution_count": 101,
   "id": "3379915b-be0e-426a-a50b-e85bffaa2360",
   "metadata": {},
   "source": [
    "ent_dict = {}\n",
    "for index, row in entities[[\"id\", \"name_en\", \"alternativenames_en\"]].iterrows():\n",
    "    ent_dict[row[\"id\"]] = (row[\"name_en\"]+\", \"+row[\"alternativenames_en\"]).replace(\", None\",\"\").lower()"
   ],
   "outputs": []
  },
  {
   "cell_type": "code",
   "execution_count": 102,
   "id": "2c3882ab-510c-4fed-81ba-6e0745f37fff",
   "metadata": {},
   "source": [
    "result = pd.DataFrame(columns=[\"design_id\", \"subject\", \"predicate\", \"object\"])"
   ],
   "outputs": []
  },
  {
   "cell_type": "code",
   "execution_count": 103,
   "id": "4c7a0df3-6649-43ad-b755-f0e385907717",
   "metadata": {},
   "source": [
    "def get_id(ent):\n",
    "    for i in ent_dict:\n",
    "        if ent.lower() in ent_dict[i]:\n",
    "            return i\n",
    "    return ent"
   ],
   "outputs": []
  },
  {
   "cell_type": "code",
   "execution_count": 104,
   "id": "e8e8d25e-33ae-4964-90ed-0290d7aed7fd",
   "metadata": {},
   "source": [
    "for index, row in X.iterrows():\n",
    "    for y in row.y:\n",
    "        subject = get_id(y[0])\n",
    "        subject_str = y[0]\n",
    "        predicate = get_id(y[1])\n",
    "        predicate_str = y[1]\n",
    "        obj = get_id(y[2])\n",
    "        obj_str = y[2]\n",
    "        if type(subject) == int and type(predicate) == int and type(obj) == int:\n",
    "            result = result._append({\"design_id\": row.db_id, \n",
    "                                     \"subject\": subject, \n",
    "                                     \"subject_str\": subject_str,\n",
    "                                     \"predicate\": predicate, \n",
    "                                     \"predicate_str\": predicate_str,\n",
    "                                     \"object\": obj,\n",
    "                                     \"object_str\": obj_str}, ignore_index=True)\n",
    "        else:\n",
    "            print(subject, predicate, obj)"
   ],
   "outputs": []
  },
  {
   "cell_type": "code",
   "execution_count": 105,
   "id": "ba172dfa-1a17-4f71-8acb-603bc0ab3795",
   "metadata": {},
   "source": [
    "result.shape"
   ],
   "outputs": []
  },
  {
   "cell_type": "code",
   "execution_count": null,
   "id": "15ec4d08-52a2-4402-9a77-79046c3e3886",
   "metadata": {},
   "source": [
    "result.to_sql(\"nlp_relation_extraction_en_v2\",dc.mysql_connection,if_exists=\"append\", index=False)"
   ],
   "outputs": []
  }
 ],
 "metadata": {
  "kernelspec": {
   "display_name": "Python 3 (ipykernel)",
   "language": "python",
   "name": "python3"
  },
  "language_info": {
   "codemirror_mode": {
    "name": "ipython",
    "version": 3
   },
   "file_extension": ".py",
   "mimetype": "text/x-python",
   "name": "python",
   "nbconvert_exporter": "python",
   "pygments_lexer": "ipython3",
   "version": "3.8.13"
  }
 },
 "nbformat": 4,
 "nbformat_minor": 5
}

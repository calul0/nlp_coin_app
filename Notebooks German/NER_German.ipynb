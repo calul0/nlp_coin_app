{
 "cells": [
  {
   "cell_type": "markdown",
   "metadata": {},
   "source": [
    "developed by Patricia Klinger, modified by Sebastian Gampe, Kerim Gencer, Chrisowalandis Deligio"
   ]
  },
  {
   "cell_type": "code",
   "execution_count": 1,
   "metadata": {},
   "source": [
    "import sys\n",
    "sys.path.append('../')\n",
    "import pandas as pd\n",
    "import random\n",
    "import os\n",
    "import numpy as np\n",
    "from cnt.model import DesignEstimator, save_ner_model, load_ner_model,save_ner_model_v2, load_ner_model_v2\n",
    "from cnt.annotate import (annotate, annotate_single_design, \n",
    "                          annotate_designs, \n",
    "                          extract_string_from_annotation, split_alternativenames)\n",
    "from cnt.evaluate import Metrics\n",
    "import spacy\n",
    "from cnt.io import  Database_Connection\n",
    "import warnings\n",
    "warnings.filterwarnings('ignore')"
   ],
   "outputs": []
  },
  {
   "cell_type": "markdown",
   "metadata": {
    "tags": []
   },
   "source": [
    "### Define the column names for the id and design column "
   ]
  },
  {
   "cell_type": "code",
   "execution_count": 2,
   "metadata": {},
   "source": [
    "id_col = \"id\"\n",
    "design_col = \"design_de\""
   ],
   "outputs": []
  },
  {
   "cell_type": "code",
   "execution_count": 3,
   "metadata": {},
   "source": [
    "dc =  Database_Connection(\"mysql+mysqlconnector://root:YourConnection\") # Format user:password@IP/Database"
   ],
   "outputs": []
  },
  {
   "cell_type": "code",
   "execution_count": 4,
   "metadata": {},
   "source": [
    "designs = dc.load_designs_from_db(\"data_designs\", [id_col, design_col])"
   ],
   "outputs": []
  },
  {
   "cell_type": "markdown",
   "metadata": {},
   "source": [
    "## This step is optional - load additional data to save with the model"
   ]
  },
  {
   "cell_type": "code",
   "execution_count": 5,
   "metadata": {},
   "source": [
    "language = \"_ger\"\n",
    "add_columns = [\"name\"+language, \"alternativenames\"+language, \"link\"]"
   ],
   "outputs": []
  },
  {
   "cell_type": "code",
   "execution_count": 6,
   "metadata": {},
   "source": [
    "entity_information = [dc.load_designs_from_db(\"nlp_list_person\", [\"name_german\", \"alternativenames\", \"link\"]),\n",
    "                      dc.load_designs_from_db(\"nlp_list_obj\", add_columns),\n",
    "                      dc.load_designs_from_db(\"nlp_list_animal\", add_columns),\n",
    "                      dc.load_designs_from_db(\"nlp_list_plant\", add_columns)]"
   ],
   "outputs": []
  },
  {
   "cell_type": "code",
   "execution_count": 7,
   "metadata": {},
   "source": [
    "for dataframe in entity_information:\n",
    "    dataframe.rename(columns={\"name_german\":\"name\", \"name\"+language:\"name\", \"alternativenames\"+language:\"alternativenames\"}, inplace=True)"
   ],
   "outputs": []
  },
  {
   "cell_type": "code",
   "execution_count": 8,
   "metadata": {},
   "source": [
    "optional_info = pd.DataFrame(columns=[\"name\",\"link\"])\n",
    "for df in entity_information:\n",
    "    tmp = split_alternativenames(df.fillna(\" \"))\n",
    "    optional_info = optional_info.append(tmp)\n",
    "optional_info"
   ],
   "outputs": []
  },
  {
   "cell_type": "code",
   "execution_count": 9,
   "metadata": {},
   "source": [
    "optional_info.loc[optional_info[\"name\"]==\"Andromeda\"][\"link\"].item()"
   ],
   "outputs": []
  },
  {
   "cell_type": "markdown",
   "metadata": {},
   "source": [
    "### Load and annotate designs"
   ]
  },
  {
   "cell_type": "code",
   "execution_count": 10,
   "metadata": {},
   "source": [
    "language = \"_ger\"\n",
    "add_columns = [\"name\"+language, \"alternativenames\"+language]"
   ],
   "outputs": []
  },
  {
   "cell_type": "code",
   "execution_count": 11,
   "metadata": {},
   "source": [
    "entities = {\n",
    "    \"PERSON\": dc.load_entities_from_db(\"nlp_list_person\", [\"name_german\", \"alternativenames\"], [\"alternativenames\"], \",\", True),\n",
    "    \"OBJECT\": dc.load_entities_from_db(\"nlp_list_obj\", add_columns, [add_columns[1]], \",\", True),\n",
    "    \"ANIMAL\": dc.load_entities_from_db(\"nlp_list_animal\", add_columns, [add_columns[1]], \",\", True),\n",
    "    \"PLANT\": dc.load_entities_from_db(\"nlp_list_plant\", add_columns, [add_columns[1]], \",\", True)}"
   ],
   "outputs": []
  },
  {
   "cell_type": "code",
   "execution_count": 12,
   "metadata": {},
   "source": [
    "annotated_designs = annotate_designs(entities, designs, id_col, design_col)\n",
    "annotated_designs = annotated_designs[\n",
    "    annotated_designs.annotations.map(len) > 0]"
   ],
   "outputs": []
  },
  {
   "cell_type": "code",
   "execution_count": 13,
   "metadata": {},
   "source": [
    "annotated_designs.shape"
   ],
   "outputs": []
  },
  {
   "cell_type": "code",
   "execution_count": 14,
   "metadata": {},
   "source": [
    "annotated_designs.head(5)"
   ],
   "outputs": []
  },
  {
   "cell_type": "markdown",
   "metadata": {},
   "source": [
    "## Train NER"
   ]
  },
  {
   "cell_type": "code",
   "execution_count": 15,
   "metadata": {},
   "source": [
    "from sklearn.model_selection import train_test_split\n",
    "X_train, X_test, y_train, y_test = train_test_split(annotated_designs[[id_col, design_col]],\n",
    "                                                    annotated_designs[[id_col, \"annotations\"]],\n",
    "                                                    test_size=0.25, random_state = 12)\n",
    "y_test = y_test.rename(columns={\"annotations\": \"y\"})"
   ],
   "outputs": []
  },
  {
   "cell_type": "code",
   "execution_count": 16,
   "metadata": {},
   "source": [
    "X_test.index = [i for i in range(X_test.shape[0])]\n",
    "y_test.index = [i for i in range(y_test.shape[0])]"
   ],
   "outputs": []
  },
  {
   "cell_type": "markdown",
   "metadata": {},
   "source": [
    "#### output directory for the trained model"
   ]
  },
  {
   "cell_type": "code",
   "execution_count": 17,
   "metadata": {},
   "source": [
    "output_dir =  \"../cnt/trained_model/ner/german/\"\n",
    "model_name = \"german_cno\""
   ],
   "outputs": []
  },
  {
   "cell_type": "code",
   "execution_count": 18,
   "metadata": {},
   "source": [
    "my_estimator = DesignEstimator(4, output_dir, model_name, id_col, design_col, spacy_model=\"de_core_news_sm\", save_optional=True, optional_info=optional_info)\n",
    "my_estimator.set_labels(\"PERSON\", \"OBJECT\", \"ANIMAL\", \"PLANT\")\n",
    "my_estimator.fit(X_train, y_train.annotations, \"cnt\")"
   ],
   "outputs": []
  },
  {
   "cell_type": "markdown",
   "metadata": {},
   "source": [
    "## Load and evaluate model"
   ]
  },
  {
   "cell_type": "code",
   "execution_count": 19,
   "metadata": {},
   "source": [
    "model = load_ner_model_v2(output_dir, model_name, id_col, design_col)"
   ],
   "outputs": []
  },
  {
   "cell_type": "code",
   "execution_count": 20,
   "metadata": {},
   "source": [
    "x_predict = model.predict(X_test,as_doc=False)"
   ],
   "outputs": []
  },
  {
   "cell_type": "code",
   "execution_count": 21,
   "metadata": {},
   "source": [
    "x_predict"
   ],
   "outputs": []
  },
  {
   "cell_type": "code",
   "execution_count": 22,
   "metadata": {},
   "source": [
    "metrics = Metrics()"
   ],
   "outputs": []
  },
  {
   "cell_type": "code",
   "execution_count": 23,
   "metadata": {},
   "source": [
    "scores_frame = metrics.create_score_frame(y_test, x_predict, my_estimator.get_labels())\n",
    "scores_frame"
   ],
   "outputs": []
  },
  {
   "cell_type": "code",
   "execution_count": 24,
   "metadata": {},
   "source": [
    "precision, recall = metrics.score_precision_recall(y_test, x_predict)"
   ],
   "outputs": []
  },
  {
   "cell_type": "code",
   "execution_count": 25,
   "metadata": {},
   "source": [
    "F1 = (2*precision*recall) / (precision + recall)"
   ],
   "outputs": []
  },
  {
   "cell_type": "code",
   "execution_count": 26,
   "metadata": {},
   "source": [
    "print(\"Precision\", round(precision*100,2))\n",
    "print(\"Recall\", round(recall*100,2))\n",
    "print(\"F1\", round(F1*100,2))"
   ],
   "outputs": []
  },
  {
   "cell_type": "markdown",
   "metadata": {},
   "source": [
    "# Visualize prediction"
   ]
  },
  {
   "cell_type": "code",
   "execution_count": 27,
   "metadata": {},
   "source": [
    "x_predict_as_doc = model.predict(designs, as_doc=True)"
   ],
   "outputs": []
  },
  {
   "cell_type": "code",
   "execution_count": 28,
   "metadata": {},
   "source": [
    "from spacy import displacy\n",
    "colors = {'PERSON': 'mediumpurple','OBJECT': 'greenyellow', 'ANIMAL' : 'orange', 'PLANT': 'salmom', 'VERBS': 'skyblue'}\n",
    "options = {'ent': ['PERSON', 'OBJECT', 'ANIMAL', 'PLANT'], 'colors': colors}\n",
    "displacy.render(x_predict_as_doc.y, \n",
    "                style='ent', jupyter=True, options=options)"
   ],
   "outputs": []
  }
 ],
 "metadata": {
  "kernelspec": {
   "display_name": "Python 3 (ipykernel)",
   "language": "python",
   "name": "python3"
  },
  "language_info": {
   "codemirror_mode": {
    "name": "ipython",
    "version": 3
   },
   "file_extension": ".py",
   "mimetype": "text/x-python",
   "name": "python",
   "nbconvert_exporter": "python",
   "pygments_lexer": "ipython3",
   "version": "3.8.13"
  }
 },
 "nbformat": 4,
 "nbformat_minor": 4
}

{
 "cells": [
  {
   "cell_type": "code",
   "execution_count": 58,
   "id": "bfcf2c26-a386-4f26-890c-35955974390f",
   "metadata": {},
   "source": [
    "import sys\n",
    "sys.path.append(\"../\")\n",
    "import pandas as pd\n",
    "import random\n",
    "import os\n",
    "import numpy as np\n",
    "from cnt.model import (DesignEstimator, RelationExtractor, save_pipeline, load_pipeline, predict_re_single_sentence, \n",
    "relations_from_adjectives_df, relations_from_adjectives_single, concat_relations)\n",
    "from cnt.annotate import (annotate, annotate_single_design, \n",
    "                          annotate_designs, \n",
    "                          extract_string_from_annotation, labeling_eng)\n",
    "from cnt.extract_relation import (path, NERTransformer, FeatureExtractor)\n",
    "from cnt.evaluate import Metrics\n",
    "from cnt.vectorize import (Doc2Str, Path2Str, Verbs2Str, AveragedPath2Vec, \n",
    "                           AveragedRest2Vec)\n",
    "from cnt.io import (replace_left_right)\n",
    "from cnt.io import  Database_Connection\n",
    "from sklearn.model_selection import train_test_split\n",
    "from sklearn.pipeline import Pipeline, make_pipeline, make_union\n",
    "from sklearn.feature_extraction.text import TfidfVectorizer, CountVectorizer\n",
    "from sklearn.svm import SVC\n",
    "from sklearn.linear_model import LogisticRegression\n",
    "from sklearn.ensemble import RandomForestClassifier\n",
    "from sklearn.preprocessing import Normalizer\n",
    "from sklearn.naive_bayes import MultinomialNB\n",
    "from itertools import product\n",
    "import warnings\n",
    "warnings.filterwarnings('ignore')"
   ],
   "outputs": []
  },
  {
   "cell_type": "code",
   "execution_count": null,
   "id": "127cd842-5d99-48cb-8bda-da50e8b054c1",
   "metadata": {},
   "source": [
    "dc =  Database_Connection(\"mysql+mysqlconnector://...\") # Format user:password@IP/Database"
   ],
   "outputs": []
  },
  {
   "cell_type": "code",
   "execution_count": 60,
   "id": "8b944b14-9d21-4a71-b2dd-43543bd8c6cd",
   "metadata": {},
   "source": [
    "id_col = \"id\"\n",
    "design_col = \"design_en\""
   ],
   "outputs": []
  },
  {
   "cell_type": "code",
   "execution_count": 61,
   "id": "1349348d-3b8b-42ac-b53b-626e0da0def0",
   "metadata": {},
   "source": [
    "import yaml\n",
    "import_path = \"../data/English_RE_data.yaml\"\n",
    "with open(import_path, encoding='utf8') as f:\n",
    "    dictionary = yaml.safe_load(f)\n",
    "    d = {replace_left_right(key): value for key, value in dictionary.items()}"
   ],
   "outputs": []
  },
  {
   "cell_type": "code",
   "execution_count": 62,
   "id": "121ec66f-c470-4d9e-b258-e8c90e6a72fe",
   "metadata": {},
   "source": [
    "relation_counts = {}\n",
    "labels = []\n",
    "for sentence, relations in d.items():\n",
    "    for rel in relations:\n",
    "        rel_name = rel[1]\n",
    "        if rel_name not in relation_counts:\n",
    "            relation_counts[rel_name] = 1\n",
    "        else:\n",
    "            relation_counts[rel_name] += 1\n",
    "\n",
    "sorted(relation_counts.items(), key= lambda x: (-x[1], x[0]))"
   ],
   "outputs": []
  },
  {
   "cell_type": "code",
   "execution_count": 63,
   "id": "79605f10-97c2-401f-b7d6-4a89bae8f6b1",
   "metadata": {
    "tags": []
   },
   "source": [
    "language = \"_en\"\n",
    "add_columns = [\"id\", \"name\"+language, \"alternativenames\"+language]"
   ],
   "outputs": []
  },
  {
   "cell_type": "code",
   "execution_count": 64,
   "id": "3b352032-81d6-4955-b7a5-2386688c1b0b",
   "metadata": {},
   "source": [
    "entities = {\n",
    "    \"PERSON\": dc.load_entities_from_db(\"nlp_list_person\", [\"name\", \"alternativenames\"], [\"alternativenames\"], \",\", True),\n",
    "    \"OBJECT\": dc.load_entities_from_db(\"nlp_list_obj\", add_columns, [add_columns[1]], \",\", True),\n",
    "    \"ANIMAL\": dc.load_entities_from_db(\"nlp_list_animal\", add_columns, [add_columns[1]], \",\", True),\n",
    "    \"PLANT\": dc.load_entities_from_db(\"nlp_list_plant\", add_columns, [add_columns[1]], \",\", True)}"
   ],
   "outputs": []
  },
  {
   "cell_type": "code",
   "execution_count": 65,
   "id": "8ea3cd6e-c0b9-4369-9853-4a3984d1c4d5",
   "metadata": {
    "tags": []
   },
   "source": [
    "X_list, y_list = labeling_eng(d, entities)"
   ],
   "outputs": []
  },
  {
   "cell_type": "code",
   "execution_count": 66,
   "id": "bc3542c6-7347-41c6-a178-59236ce0ef97",
   "metadata": {
    "tags": []
   },
   "source": [
    "X = pd.DataFrame({design_col: X_list, \"y\" : y_list})"
   ],
   "outputs": []
  },
  {
   "cell_type": "code",
   "execution_count": 67,
   "id": "f0557002-60b3-47cc-b2d9-7f71098ff1d4",
   "metadata": {
    "tags": []
   },
   "source": [
    "X.shape"
   ],
   "outputs": []
  },
  {
   "cell_type": "code",
   "execution_count": 68,
   "id": "53784643-d9dd-4e15-9111-becb28303b02",
   "metadata": {
    "tags": []
   },
   "source": [
    "X[id_col] = X.index"
   ],
   "outputs": []
  },
  {
   "cell_type": "code",
   "execution_count": 69,
   "id": "7950c66a-88e8-4a95-8062-98ea26c44c94",
   "metadata": {},
   "source": [
    "def get_id(design):\n",
    "    try:\n",
    "        return dc.create_own_query(\"select id from nlp_training_designs where design_en='\"+design+\"';\").id.item()\n",
    "    except:\n",
    "        return \"Null\""
   ],
   "outputs": []
  },
  {
   "cell_type": "code",
   "execution_count": null,
   "id": "4ca11614-23b0-419f-96a1-7c7bfbe202ea",
   "metadata": {},
   "source": [
    "%%capture\n",
    "X[\"db_id\"] = X.apply(lambda row: get_id(row.design_en), axis=1)"
   ],
   "outputs": []
  },
  {
   "cell_type": "code",
   "execution_count": 71,
   "id": "32b60366-fc81-4e62-9582-7d717c95cdc9",
   "metadata": {},
   "source": [
    "X = X.loc[X.db_id!=\"Null\"]"
   ],
   "outputs": []
  },
  {
   "cell_type": "code",
   "execution_count": 72,
   "id": "a9ea5c2c-f14b-48eb-800c-096852d76bf4",
   "metadata": {},
   "source": [
    "X.shape"
   ],
   "outputs": []
  },
  {
   "cell_type": "code",
   "execution_count": 78,
   "id": "bf318182-015f-4e54-a2cb-9cb5fe68fa28",
   "metadata": {},
   "source": [
    "X.head(5)"
   ],
   "outputs": []
  },
  {
   "cell_type": "code",
   "execution_count": 79,
   "id": "642b2c0c-40de-4246-b4b5-43e4bcb86368",
   "metadata": {},
   "source": [
    "entities = dc.create_own_query(\"select * from nlp_list_entities;\")"
   ],
   "outputs": []
  },
  {
   "cell_type": "code",
   "execution_count": 80,
   "id": "4f23e2a5-2e48-4919-ac84-d932959e50d8",
   "metadata": {},
   "source": [
    "entities[[\"id\", \"name_en\", \"alternativenames_en\"]]"
   ],
   "outputs": []
  },
  {
   "cell_type": "code",
   "execution_count": 81,
   "id": "4d20bd47-f3e9-4125-932b-4b6d3d5a4be9",
   "metadata": {},
   "source": [
    "ent_dict = {}\n",
    "for index, row in entities[[\"id\", \"name_en\", \"alternativenames_en\"]].iterrows():\n",
    "    ent_dict[row[\"id\"]] = (row[\"name_en\"]+\", \"+row[\"alternativenames_en\"]).replace(\", None\",\"\").lower()"
   ],
   "outputs": []
  },
  {
   "cell_type": "code",
   "execution_count": 82,
   "id": "ac3494bb-d383-4cee-a3c3-ca4e7eb7242e",
   "metadata": {},
   "source": [
    "result = pd.DataFrame(columns=[\"design_id\", \"subject\", \"subject_str\", \"predicate\", \"predicate_str\", \"object\", \"object_str\"])"
   ],
   "outputs": []
  },
  {
   "cell_type": "code",
   "execution_count": 83,
   "id": "fe6acf3f-656a-4793-a420-36cfe0078dd2",
   "metadata": {},
   "source": [
    "def get_id(ent):\n",
    "    for i in ent_dict:\n",
    "        if ent.lower() in ent_dict[i]:\n",
    "            return i\n",
    "    return ent"
   ],
   "outputs": []
  },
  {
   "cell_type": "code",
   "execution_count": 84,
   "id": "8d961ddf-41cb-496a-86fb-43ee15e022a3",
   "metadata": {},
   "source": [
    "for index, row in X.iterrows():\n",
    "    for y in row.y:\n",
    "        subject = get_id(y[0])\n",
    "        subject_str = y[0]\n",
    "        predicate = get_id(y[2])\n",
    "        predicate_str = y[2]\n",
    "        obj = get_id(y[3])\n",
    "        obj_str = y[3]\n",
    "        if type(subject) == int and type(predicate) == int and type(obj) == int:\n",
    "            result = result._append({\"design_id\": row.db_id, \n",
    "                                     \"subject\": subject, \n",
    "                                     \"subject_str\": subject_str,\n",
    "                                     \"predicate\": predicate, \n",
    "                                     \"predicate_str\": predicate_str,\n",
    "                                     \"object\": obj,\n",
    "                                     \"object_str\": obj_str}, ignore_index=True)\n",
    "        else:\n",
    "            print(subject, predicate, obj)"
   ],
   "outputs": []
  },
  {
   "cell_type": "code",
   "execution_count": 85,
   "id": "886260f3-9f36-439e-b428-6c95ec941776",
   "metadata": {},
   "source": [
    "result.head(5)"
   ],
   "outputs": []
  },
  {
   "cell_type": "code",
   "execution_count": 86,
   "id": "80e56ea1-1b1e-4bbe-892f-8d299e5094f3",
   "metadata": {},
   "source": [
    "result.to_sql(\"nlp_relation_extraction_en_v2\",dc.mysql_connection,if_exists=\"append\", index=False)"
   ],
   "outputs": []
  }
 ],
 "metadata": {
  "kernelspec": {
   "display_name": "Python 3 (ipykernel)",
   "language": "python",
   "name": "python3"
  },
  "language_info": {
   "codemirror_mode": {
    "name": "ipython",
    "version": 3
   },
   "file_extension": ".py",
   "mimetype": "text/x-python",
   "name": "python",
   "nbconvert_exporter": "python",
   "pygments_lexer": "ipython3",
   "version": "3.8.13"
  }
 },
 "nbformat": 4,
 "nbformat_minor": 5
}
